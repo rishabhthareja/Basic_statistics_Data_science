{
 "cells": [
  {
   "cell_type": "markdown",
   "metadata": {},
   "source": [
    "# Deviation in the dataset. \n",
    "\n",
    "deviation = Xi - Xm\n",
    "(Deviation is the difference between each element from the mean.)\n",
    "\n",
    "Xi is each element on data and Xm is mean of X "
   ]
  },
  {
   "cell_type": "code",
   "execution_count": 47,
   "metadata": {},
   "outputs": [
    {
     "name": "stdout",
     "output_type": "stream",
     "text": [
      "Mean of df is:21\n",
      "\n",
      "Deviation of 23 is:2\n",
      "\n",
      "Deviation of 12 is:-9\n",
      "\n",
      "Deviation of 11 is:-10\n",
      "\n",
      "Deviation of 44 is:23\n",
      "\n",
      "Deviation of 8 is:-13\n",
      "\n",
      "Deviation of 10 is:-11\n",
      "\n",
      "Deviation of 9 is:-12\n",
      "\n",
      "Deviation of 40 is:19\n",
      "\n",
      "Deviation of 32 is:11\n",
      "\n",
      "\n",
      "\n"
     ]
    }
   ],
   "source": [
    "import statistics as stats\n",
    "\n",
    "df1 = [23, 12, 11, 44, 8, 10, 9, 40, 32]\n",
    "mn = stats.mean(df1)\n",
    "print('Mean of df is:{}\\n'.format(mn))\n",
    "\n",
    "diff_lst = []\n",
    "for i in df1:\n",
    "    diff=i-mn\n",
    "    print('Deviation of {} is:{}\\n'.format(i,diff))\n",
    "    diff_lst.append(diff)\n",
    "print('\\n')"
   ]
  },
  {
   "attachments": {
    "alternate-z-score.png": {
     "image/png": "[encoded data removed]"
    }
   },
   "cell_type": "markdown",
   "metadata": {},
   "source": [
    "# z-score \n",
    "![alternate-z-score.png](attachment:alternate-z-score.png)\n",
    "\n",
    "X bar is mean and s is standard deviation."
   ]
  },
  {
   "cell_type": "code",
   "execution_count": 48,
   "metadata": {},
   "outputs": [
    {
     "name": "stdout",
     "output_type": "stream",
     "text": [
      "The mean of cost is: 21\n",
      "The mean of standard dev is: 14.274102423620198\n",
      "The z-score of 23 is: 0.14011388882081174\n",
      "The z-score of 12 is: -0.6305124996936529\n",
      "The z-score of 11 is: -0.7005694441040587\n",
      "The z-score of 44 is: 1.6113097214393353\n",
      "The z-score of 8 is: -0.9107402773352764\n",
      "The z-score of 10 is: -0.7706263885144646\n",
      "The z-score of 9 is: -0.8406833329248705\n",
      "The z-score of 40 is: 1.3310819437977117\n",
      "The z-score of 32 is: 0.7706263885144646\n"
     ]
    }
   ],
   "source": [
    "cost =[23, 12, 11, 44, 8, 10, 9, 40, 32] \n",
    "\n",
    "x_bar = stats.mean(cost)\n",
    "print(\"The mean of cost is: {}\".format(x_bar))\n",
    "\n",
    "sd = stats.stdev(cost)\n",
    "print(\"The mean of standard dev is: {}\".format(sd))\n",
    "\n",
    "for i in cost:\n",
    "    z=(i-x_bar)/sd\n",
    "    \n",
    "    print(\"The z-score of {} is: {}\".format(i,z))\n"
   ]
  },
  {
   "cell_type": "markdown",
   "metadata": {},
   "source": [
    "# Variance\n",
    "\n",
    "Variance is the average of squared differences from the mean\n",
    "\n",
    "# Standard Deviation\n",
    "\n",
    "Square root of the variance."
   ]
  },
  {
   "cell_type": "code",
   "execution_count": 49,
   "metadata": {},
   "outputs": [
    {
     "name": "stdout",
     "output_type": "stream",
     "text": [
      "Mean of df is:21\n",
      "\n",
      "The variance of df3 is 181.11111111111111\n",
      "The standard deviation of df2 is 13.457752825457566\n"
     ]
    }
   ],
   "source": [
    "df2 = [23, 12, 11, 44, 8, 10, 9, 40, 32]\n",
    "\n",
    "mn = stats.mean(df2)\n",
    "print('Mean of df is:{}\\n'.format(mn))\n",
    "\n",
    "diff_lst = []\n",
    "for i in df2:\n",
    "    sq_dev=(i-mn)**2\n",
    "    diff_lst.append(sq_dev)\n",
    "    \n",
    "variance = sum(diff_lst)/len(df2)\n",
    "stand_dev = variance**0.5\n",
    "print('The variance of df3 is {}'.format(variance))\n",
    "print('The standard deviation of df2 is {}'.format(stand_dev))"
   ]
  },
  {
   "cell_type": "markdown",
   "metadata": {},
   "source": [
    "# Median of the dataset."
   ]
  },
  {
   "cell_type": "code",
   "execution_count": 50,
   "metadata": {},
   "outputs": [
    {
     "name": "stdout",
     "output_type": "stream",
     "text": [
      "The median of dataset df3 is: 17\n"
     ]
    }
   ],
   "source": [
    "df3 = [23, 12, 11, 44, 8, 10, 9, 40, 20, 17, 23]\n",
    "\n",
    "df3.sort()\n",
    "#print(df3)\n",
    "if len(df3)%2 == 0:\n",
    "    pos = len(df3)//2\n",
    "    median = (df3[pos]+df3[pos-1])/2\n",
    "    \n",
    "else:\n",
    "    pos = len(df3)//2\n",
    "    median = df3[pos]\n",
    "    \n",
    "print('The median of dataset df3 is: {}'.format(median))\n"
   ]
  },
  {
   "cell_type": "code",
   "execution_count": null,
   "metadata": {},
   "outputs": [],
   "source": []
  }
 ],
 "metadata": {
  "kernelspec": {
   "display_name": "Python 3",
   "language": "python",
   "name": "python3"
  },
  "language_info": {
   "codemirror_mode": {
    "name": "ipython",
    "version": 3
   },
   "file_extension": ".py",
   "mimetype": "text/x-python",
   "name": "python",
   "nbconvert_exporter": "python",
   "pygments_lexer": "ipython3",
   "version": "3.7.4"
  }
 },
 "nbformat": 4,
 "nbformat_minor": 2
}
